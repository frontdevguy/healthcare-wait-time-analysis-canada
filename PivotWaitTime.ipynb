{
 "cells": [
  {
   "cell_type": "code",
   "execution_count": 3,
   "metadata": {},
   "outputs": [],
   "source": [
    "import pandas as pd\n",
    "\n",
    "df = pd.read_csv(\"CleanedWaitTime.csv\")\n",
    "\n",
    "df_filtered = df[df[\"Metric\"].isin([\"Volume\", \"50th Percentile\"])]\n",
    "\n",
    "pivot_df = df_filtered.pivot_table(\n",
    "    index=[\"Province/territory\", \"Indicator\", \"Data year\"],\n",
    "    columns=\"Metric\",\n",
    "    values=\"Indicator result\",\n",
    "    aggfunc=\"first\",\n",
    ").reset_index()\n",
    "\n",
    "pivot_df.columns.name = None\n",
    "pivot_df = pivot_df.rename(\n",
    "    columns={\n",
    "        \"50th Percentile\": \"Median Wait Time (Hours)\",\n",
    "        \"Volume\": \"Procedure Volume\",\n",
    "    }\n",
    ")\n",
    "\n",
    "improvement_df = pivot_df[pivot_df[\"Data year\"].isin([2013, 2023])]\n",
    "\n",
    "year_pivot = improvement_df.pivot_table(\n",
    "    index=[\"Province/territory\", \"Indicator\"],\n",
    "    columns=\"Data year\",\n",
    "    values=\"Median Wait Time (Hours)\",\n",
    "    aggfunc=\"first\",\n",
    ").reset_index()\n",
    "\n",
    "year_pivot.columns.name = None\n",
    "year_pivot = year_pivot.rename(columns={2013: \"Wait Time 2013\", 2023: \"Wait Time 2023\"})\n",
    "year_pivot[\"Wait Time Improvement\"] = (\n",
    "    year_pivot[\"Wait Time 2013\"] - year_pivot[\"Wait Time 2023\"]\n",
    ")\n",
    "\n",
    "final_df = pd.merge(\n",
    "    pivot_df,\n",
    "    year_pivot[[\"Province/territory\", \"Indicator\", \"Wait Time Improvement\"]],\n",
    "    on=[\"Province/territory\", \"Indicator\"],\n",
    "    how=\"left\",\n",
    ")\n",
    "\n",
    "final_df.to_csv(\"PivotedWaitTimeData.csv\", index=False)\n"
   ]
  },
  {
   "cell_type": "code",
   "execution_count": null,
   "metadata": {},
   "outputs": [],
   "source": []
  }
 ],
 "metadata": {
  "kernelspec": {
   "display_name": "base",
   "language": "python",
   "name": "python3"
  },
  "language_info": {
   "codemirror_mode": {
    "name": "ipython",
    "version": 3
   },
   "file_extension": ".py",
   "mimetype": "text/x-python",
   "name": "python",
   "nbconvert_exporter": "python",
   "pygments_lexer": "ipython3",
   "version": "3.9.7"
  }
 },
 "nbformat": 4,
 "nbformat_minor": 2
}
